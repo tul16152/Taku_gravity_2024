{
 "cells": [
  {
   "attachments": {},
   "cell_type": "markdown",
   "metadata": {},
   "source": [
    "## Initial Processing of Gravity Data"
   ]
  },
  {
   "cell_type": "code",
   "execution_count": 1,
   "metadata": {},
   "outputs": [],
   "source": [
    "#Import required packages - \n",
    "import numpy as np\n",
    "import matplotlib as mpl\n",
    "import matplotlib.pyplot as plt\n",
    "from datetime import *\n",
    "import pandas as pd\n",
    "import pyproj\n",
    "import sys\n",
    "sys.path.insert(0,'Required_packages')\n",
    "from tidegravity import *\n",
    "from scipy.interpolate import LinearNDInterpolator"
   ]
  },
  {
   "attachments": {},
   "cell_type": "markdown",
   "metadata": {},
   "source": [
    "### Read in the data\n",
    "We define a function to read in the text file that is output by the gravity meter and then take the columns we want and put them in a pandas dataframe."
   ]
  },
  {
   "cell_type": "code",
   "execution_count": 2,
   "metadata": {},
   "outputs": [],
   "source": [
    "#This is a function to read in the text tile that is output but the gravity meter \n",
    "#- you don't need to understand exactly what it does but it basically reads the the file line by line and extracts certain bits for different data columns\n",
    "linen=[]\n",
    "station=[] \n",
    "alt=[]\n",
    "grav=[]  \n",
    "sd=[]\n",
    "tiltx=[]\n",
    "tilty=[]\n",
    "temp=[]\n",
    "etc=[]\n",
    "dur=[]\n",
    "rej=[]\n",
    "t=[]\n",
    "ts = []\n",
    "corr_g=[]\n",
    "keepdata=[]\n",
    "epoch = []\n",
    "keepitem=int\n",
    "def readRawDataFile(filename):  \n",
    "        \"\"\" read a raw ascii data text file extracted from CG5\n",
    "     \n",
    "        sometimes bad values are written by the CG5 soft, if such case happen,\n",
    "        an error is raised and the user is asked for checking the data file \n",
    "        manually\n",
    "        \"\"\"    \n",
    "   \n",
    "        try:\n",
    "            #essaye d'ouvrir le fichier\n",
    "            fh = open(filename, 'r')\n",
    "            i=0\n",
    "            #PBAR = ProgressBar(total=len([1 for line in  open(filename, 'r')]),textmess='Load raw data')   \n",
    "            #print \"number of lines: %d\"%len([1 for line in  open(filename, 'r')])\n",
    "            #PBAR.show()\n",
    "            for line in fh:    \n",
    "                #PBAR.progressbar.setValue(i)\n",
    "                i+=1\n",
    "                # Clean line\n",
    "                line = line.strip()\n",
    "                # Skip blank and comment lines\n",
    "                if (not line) or (line[0] == '/') or (line[0] == 'L'): continue\n",
    "        \t     #parse string line first with respect to '/' caracters (used in the date format), \n",
    "        \t     #then with ':' (used for the time display), eventually with the classic ' '\n",
    "                vals_temp1=line.split('/')\n",
    "                vals_temp2=vals_temp1[0].split(':')\n",
    "                vals_temp3=vals_temp2[0].split()                \n",
    "                vals_temp4=vals_temp2[2].split()\n",
    "\n",
    "                # fill object properties:\n",
    "                linen.append(float(vals_temp3[0]))\n",
    "                station.append(float(vals_temp3[1]))\n",
    "                alt.append(float(vals_temp3[2]))\n",
    "                grav.append(float(vals_temp3[3]))\n",
    "                sd.append(float(vals_temp3[4]))\n",
    "                tiltx.append(float(vals_temp3[5]))\n",
    "                tilty.append(float(vals_temp3[6]))\n",
    "                temp.append(float(vals_temp3[7]))\n",
    "                etc.append(float(vals_temp3[8]))\n",
    "                dur.append(int(vals_temp3[9]))\n",
    "                rej.append(int(vals_temp3[10]))\n",
    "                t.append(datetime(int(vals_temp4[3]),int(vals_temp1[1]),\\\n",
    "                int(vals_temp1[2]),int(vals_temp3[11]),int(vals_temp2[1]),\\\n",
    "                int(vals_temp4[0])))       \n",
    "                t_tmp = '%04d-%02d-%02dT%02d:%02d:%02d'%\\\n",
    "                    (int(vals_temp4[3]),int(vals_temp1[1]),\\\n",
    "                    int(vals_temp1[2]),int(vals_temp3[11]),int(vals_temp2[1]),\\\n",
    "                    int(vals_temp4[0]))  \n",
    "                ts.append(pd.Timestamp(t_tmp))\n",
    "                epoch.append((pd.Timestamp(t_tmp) - pd.Timestamp(\"1970-01-01\")).total_seconds())\n",
    "\n",
    "                keepdata.append(1)                                                                                         \n",
    "        except IOError:\n",
    "            #si ça ne marche pas, affiche ce message et continue le prog\n",
    "            print ('No file : %s' %(filename))            \n",
    "        except ValueError:\n",
    "            print ('pb at line %d : check raw data file'%(i))\n",
    "        except IndexError:\n",
    "            print ('pb at line %d : check raw data file: possibly last line?'%(i) )"
   ]
  },
  {
   "cell_type": "code",
   "execution_count": 3,
   "metadata": {},
   "outputs": [],
   "source": [
    "#read in gravity data\n",
    "readRawDataFile('Data/grav_all_data.TXT') #since we have defined the function readRawDataFile in the above cell we can just call it here with our file name\n",
    "#note that if you run this multiple times it will keep adding onto the bottom of the lists - so you'll end up multiple copys of the data in your dataframe\n",
    "\n",
    "scintrex_data = pd.DataFrame({'grav':grav,'sta':station, 'timestamp':ts, 'sd':sd, 'tiltx':tiltx, 'tilty':tilty, 'temp':temp}) #here we define our pandas dataframe with the data columns we are interested in\n"
   ]
  },
  {
   "attachments": {},
   "cell_type": "markdown",
   "metadata": {},
   "source": [
    "### Read in and assign gps data\n",
    "\n",
    "Our gps data is stored seperately so we also want to read that in and assign the correct positions and elevations to the stations by name."
   ]
  },
  {
   "cell_type": "code",
   "execution_count": 4,
   "metadata": {},
   "outputs": [
    {
     "name": "stderr",
     "output_type": "stream",
     "text": [
      "/var/folders/6g/r2y8czh94x50dtz0hyff18nr0000gq/T/ipykernel_78154/2736470911.py:9: SettingWithCopyWarning: \n",
      "A value is trying to be set on a copy of a slice from a DataFrame\n",
      "\n",
      "See the caveats in the documentation: https://pandas.pydata.org/pandas-docs/stable/user_guide/indexing.html#returning-a-view-versus-a-copy\n",
      "  scintrex_data['x_8N'].iloc[scintrex_data.sta == stations_gps.Name.iloc[i]] = stations_gps['x_8N'].iloc[i]\n",
      "/var/folders/6g/r2y8czh94x50dtz0hyff18nr0000gq/T/ipykernel_78154/2736470911.py:10: SettingWithCopyWarning: \n",
      "A value is trying to be set on a copy of a slice from a DataFrame\n",
      "\n",
      "See the caveats in the documentation: https://pandas.pydata.org/pandas-docs/stable/user_guide/indexing.html#returning-a-view-versus-a-copy\n",
      "  scintrex_data['y_8N'].iloc[scintrex_data.sta == stations_gps.Name.iloc[i]] = stations_gps['y_8N'].iloc[i]\n",
      "/var/folders/6g/r2y8czh94x50dtz0hyff18nr0000gq/T/ipykernel_78154/2736470911.py:11: SettingWithCopyWarning: \n",
      "A value is trying to be set on a copy of a slice from a DataFrame\n",
      "\n",
      "See the caveats in the documentation: https://pandas.pydata.org/pandas-docs/stable/user_guide/indexing.html#returning-a-view-versus-a-copy\n",
      "  scintrex_data['Elev'].iloc[scintrex_data.sta == stations_gps.Name.iloc[i]] = stations_gps['Elevation'].iloc[i]\n",
      "/var/folders/6g/r2y8czh94x50dtz0hyff18nr0000gq/T/ipykernel_78154/2736470911.py:12: SettingWithCopyWarning: \n",
      "A value is trying to be set on a copy of a slice from a DataFrame\n",
      "\n",
      "See the caveats in the documentation: https://pandas.pydata.org/pandas-docs/stable/user_guide/indexing.html#returning-a-view-versus-a-copy\n",
      "  scintrex_data['Elev_std'].iloc[scintrex_data.sta == stations_gps.Name.iloc[i]] = stations_gps['Elev_std'].iloc[i]\n"
     ]
    }
   ],
   "source": [
    "#read in gps data\n",
    "stations_gps = pd.read_csv('Data/GPS/grav_all_ppk_stations.csv', usecols=[0,3,4,5,6],skiprows=1,names=['Name', 'Elev_std', 'x_8N', 'y_8N', 'Elevation'])\n",
    "#create columns with value -999 that we will overwrite with the correct value\n",
    "scintrex_data['x_8N'] = -999\n",
    "scintrex_data['y_8N'] = -999\n",
    "scintrex_data['Elev'] = -999\n",
    "scintrex_data['Elev_std'] = -999\n",
    "for i in range(len(stations_gps)): #loop through all the stations in the gps data\n",
    "    scintrex_data['x_8N'].iloc[scintrex_data.sta == stations_gps.Name.iloc[i]] = stations_gps['x_8N'].iloc[i]\n",
    "    scintrex_data['y_8N'].iloc[scintrex_data.sta == stations_gps.Name.iloc[i]] = stations_gps['y_8N'].iloc[i]\n",
    "    scintrex_data['Elev'].iloc[scintrex_data.sta == stations_gps.Name.iloc[i]] = stations_gps['Elevation'].iloc[i]\n",
    "    scintrex_data['Elev_std'].iloc[scintrex_data.sta == stations_gps.Name.iloc[i]] = stations_gps['Elev_std'].iloc[i]\n",
    "\n",
    "#the bases are a little different because we didn't record a position there - but the emlids also store the location of the base station so we can assign it manually\n",
    "#camp 10 was station numbers between 100 and 120\n",
    "scintrex_data['x_8N'].iloc[(scintrex_data['sta']>=100) & (scintrex_data['sta']<120)] = np.mean(stations_gps[(stations_gps['Name']>=100) & (stations_gps['Name']<120)].x_8N)\n",
    "scintrex_data['y_8N'].iloc[(scintrex_data['sta']>=100) & (scintrex_data['sta']<120)] = np.mean(stations_gps[(stations_gps['Name']>=100) & (stations_gps['Name']<120)].y_8N)\n",
    "scintrex_data['Elev'].iloc[(scintrex_data['sta']>=100) & (scintrex_data['sta']<120)] = np.mean(stations_gps[(stations_gps['Name']>=100) & (stations_gps['Name']<120)].Elevation)\n",
    "scintrex_data['Elev_std'].iloc[(scintrex_data['sta']>=100) & (scintrex_data['sta']<120)] = np.mean(stations_gps[(stations_gps['Name']>=100) & (stations_gps['Name']<120)].Elev_std)\n",
    "#camp 9 was station numbers between 150 and 160\n",
    "scintrex_data['x_8N'].iloc[(scintrex_data['sta']>=150) & (scintrex_data['sta']<160)] = np.mean(stations_gps[(stations_gps['Name']>=150) & (stations_gps['Name']<160)].x_8N)\n",
    "scintrex_data['y_8N'].iloc[(scintrex_data['sta']>=150) & (scintrex_data['sta']<160)] = np.mean(stations_gps[(stations_gps['Name']>=150) & (stations_gps['Name']<160)].y_8N)\n",
    "scintrex_data['Elev'].iloc[(scintrex_data['sta']>=150) & (scintrex_data['sta']<160)] = np.mean(stations_gps[(stations_gps['Name']>=150) & (stations_gps['Name']<160)].Elevation)\n",
    "scintrex_data['Elev_std'].iloc[(scintrex_data['sta']>=150) & (scintrex_data['sta']<160)] = np.mean(stations_gps[(stations_gps['Name']>=150) & (stations_gps['Name']<160)].Elev_std)\n",
    "\n",
    "#transform to wgs84 lat long\n",
    "#define transformations\n",
    "wgs84 = 'epsg:4326' # Global lat-lon coordinate system - to be used for tide and latitude corrections\n",
    "utm8N = 'epsg:26908' #utm8n - nad 83 - the projected coordinate system being used\n",
    "utm8N2wgs = pyproj.Transformer.from_crs(utm8N, wgs84)\n",
    "scintrex_data['Lat'], scintrex_data['Long'] = utm8N2wgs.transform(scintrex_data['x_8N'].values, scintrex_data['y_8N'].values)\n",
    "\n"
   ]
  },
  {
   "attachments": {},
   "cell_type": "markdown",
   "metadata": {},
   "source": [
    "### Earth tide\n"
   ]
  },
  {
   "cell_type": "code",
   "execution_count": 5,
   "metadata": {},
   "outputs": [],
   "source": [
    "tide_calc = solve_longman_tide(scintrex_data.Lat.values, scintrex_data.Long.values, scintrex_data.Elev.values, pd.DatetimeIndex(scintrex_data.timestamp.values))\n",
    "scintrex_data['tide_calc'] = tide_calc[2]\n",
    "scintrex_data['tide_corr_grav'] = scintrex_data['grav'] + scintrex_data['tide_calc'] #we add the calculated tide correction to get the tide corrected gravity\n"
   ]
  },
  {
   "attachments": {},
   "cell_type": "markdown",
   "metadata": {},
   "source": [
    "### Average Measurements\n",
    "We have at least 4 measurements at each location, so we want to average over them so we just have one value at each location"
   ]
  },
  {
   "cell_type": "code",
   "execution_count": 6,
   "metadata": {},
   "outputs": [],
   "source": [
    "st_names = scintrex_data['sta'].unique()\n",
    "station_avgs = pd.DataFrame(st_names, columns=['sta'])\n",
    "\n",
    "#create lists for values to extract from data\n",
    "grav_avg = []\n",
    "grav_std = []\n",
    "center_dt = []\n",
    "lat = []\n",
    "long = []\n",
    "x_8N = []\n",
    "y_8N = []\n",
    "elev = []\n",
    "elev_std = []\n",
    "\n",
    "for n in st_names:\n",
    "    #grav_vals = []\n",
    "    select = scintrex_data[scintrex_data.sta == n]\n",
    "    grav_avg.append(np.mean(select.tide_corr_grav))\n",
    "    grav_std.append(np.std(select.tide_corr_grav))\n",
    "    center_dt.append(select.timestamp.iloc[0] + (select.timestamp.iloc[-1] - select.timestamp.iloc[0])/2)\n",
    "    lat.append(np.mean(select.Lat))\n",
    "    long.append(np.mean(select.Long))\n",
    "    x_8N.append(np.mean(select.x_8N))\n",
    "    y_8N.append(np.mean(select.y_8N))\n",
    "    elev.append(np.mean(select.Elev))\n",
    "    elev_std.append(np.mean(select.Elev_std))\n",
    "#create new dataframe with all extracted values\n",
    "data_avgs = pd.DataFrame(zip(st_names, grav_avg, grav_std, center_dt, lat, long, x_8N, y_8N, elev, elev_std), columns=['sta','grav_avg', 'grav_std', 'Datetime', 'Lat', 'Long', 'x_8N', 'y_8N','Elev', 'Elev_std'])"
   ]
  },
  {
   "cell_type": "code",
   "execution_count": 7,
   "metadata": {},
   "outputs": [],
   "source": [
    "#Now we split the data from the stations and the two base stations into seperate dataframes - based on their station numbers\n",
    "# First create some columns we want in all of the dataframes\n",
    "data_avgs['secs_elapsed'] = (data_avgs['Datetime'] - data_avgs['Datetime'].iloc[0])/pd.Timedelta(seconds=1)\n",
    "scintrex_data['secs_elapsed'] = (scintrex_data['timestamp'] - scintrex_data['timestamp'].iloc[0])/pd.Timedelta(seconds=1)\n",
    "\n",
    "c10_base = data_avgs.loc[(data_avgs['sta']>=100) & (data_avgs['sta']<120)].reset_index(drop=True)\n",
    "c9_base = data_avgs.loc[(data_avgs['sta']>=150) & (data_avgs['sta']<160)].reset_index(drop=True)\n"
   ]
  },
  {
   "cell_type": "code",
   "execution_count": 8,
   "metadata": {},
   "outputs": [],
   "source": [
    "#export to be used in the terrain correction - calculated in seperate script 'JIRP_terrain_23'\n",
    "data_avgs.to_csv('Data/GPS/grav_avgs.csv', index=False)"
   ]
  },
  {
   "attachments": {},
   "cell_type": "markdown",
   "metadata": {},
   "source": [
    "### Drift \n",
    "We need to calculate the effect of the drift of the gravity meter on the measurements - as we can see from the first plot the value of gravity that we measure is drifting through time. In this case the drift looks fairly linear which is a good thing as it is easy to correct for. Here I have not incorporated the data from camp 9 yet, instead just calculating the drift from the camp 10 measurements on either side of the camp 9 trip."
   ]
  },
  {
   "cell_type": "code",
   "execution_count": 9,
   "metadata": {},
   "outputs": [],
   "source": [
    "c10_all_data = scintrex_data.loc[(scintrex_data['sta']>=101) & (scintrex_data['sta']<120)].reset_index(drop=True)\n",
    "c10_contin = scintrex_data.loc[scintrex_data['sta']==101].reset_index(drop=True)\n",
    "a, b = np.polyfit(c10_base.secs_elapsed, c10_base.grav_avg, 1)\n",
    "c10_all_data['linear_drift_corr'] = c10_all_data.tide_corr_grav - (c10_all_data.secs_elapsed*a +b)\n",
    "\n",
    "c10_base['linear_drift_corr'] = c10_base.grav_avg - (c10_base.secs_elapsed*a +b)\n",
    "data_avgs['linear_drift_corr'] = data_avgs.grav_avg - (data_avgs.secs_elapsed*a +b)\n",
    "\n",
    "# ax2 = ax1.twinx()\n",
    "mins_elp = np.arange(50, 450,1)\n",
    "linear_corr =  mins_elp*60*a +b - c10_base.grav_avg.iloc[0] \n",
    "base1 = c10_base[c10_base.sta == 102]\n",
    "base2 = c10_base[c10_base.sta == 103]\n",
    "repeat_sta_1 = data_avgs[data_avgs.sta.isin([1,11])]\n",
    "repeat_sta_7 = data_avgs[data_avgs.sta.isin([7,71])]\n",
    "day1 = scintrex_data[(scintrex_data.timestamp < base2.Datetime.iloc[0]) & (scintrex_data.timestamp > base1.Datetime.iloc[0])]"
   ]
  },
  {
   "cell_type": "code",
   "execution_count": 14,
   "metadata": {},
   "outputs": [
    {
     "data": {
      "text/plain": [
       "1.2833659467600076"
      ]
     },
     "execution_count": 14,
     "metadata": {},
     "output_type": "execute_result"
    }
   ],
   "source": [
    "((c10_base.grav_avg.iloc[-1] - c10_base.grav_avg[0])/max(c10_base.secs_elapsed))*(60*60*24)"
   ]
  },
  {
   "cell_type": "code",
   "execution_count": 10,
   "metadata": {},
   "outputs": [
    {
     "data": {
      "image/png": "[encoded data removed]",
      "text/plain": [
       "<Figure size 1080x432 with 3 Axes>"
      ]
     },
     "metadata": {
      "needs_background": "light"
     },
     "output_type": "display_data"
    }
   ],
   "source": [
    "fig, (ax1, ax2) = plt.subplots(1, 2, figsize=(15, 6))\n",
    "\n",
    "\n",
    "ax1.plot(c10_all_data.timestamp, c10_all_data.tide_corr_grav, '.')\n",
    "ax1.plot(c10_all_data.timestamp, c10_all_data.secs_elapsed*a +b)\n",
    "ax2.plot(c10_all_data.timestamp, c10_all_data['linear_drift_corr'], 'b.', label='Linearally corrected data')\n",
    "ax3=ax2.twinx()\n",
    "ax3.plot(c10_all_data.timestamp, c10_all_data.temp, 'r.', label='Internal Temperature')\n",
    "ax1.set_xlabel('Date and time', )\n",
    "ax1.set_ylabel('Measured Gravity (mGal)')\n",
    "ax2.set_xlabel('Date and time')\n",
    "ax2.set_ylabel('Drift Corrected Gravity (mGal)', color='b')\n",
    "ax3.set_ylabel('Internal Temperature (mK)', color='r')\n",
    "ax1.set_title('Camp 10 Measurements')\n",
    "ax2.set_title('Camp 10 Drift Corrected Gravity and Internal Temperature')\n",
    "fig.autofmt_xdate(rotation=45)"
   ]
  },
  {
   "cell_type": "markdown",
   "metadata": {},
   "source": [
    "Everything looks pretty good apart from the second measurements on on 2023-07-06 - this was at the end of day 1, going to look at the measurements through that day to check if can see evidence of a tare during the day. Doesn't seem to be much correlation between gravity and temperature."
   ]
  },
  {
   "cell_type": "markdown",
   "metadata": {},
   "source": [
    "On the continuous measurement once it has been drift corrected there is a stabilisation period of about 15-20 minutes. But the change during this time is only 0.02 mGal which is insignificant related to other errors."
   ]
  },
  {
   "cell_type": "code",
   "execution_count": 12,
   "metadata": {},
   "outputs": [
    {
     "data": {
      "text/plain": [
       "<matplotlib.legend.Legend at 0x16b1e7160>"
      ]
     },
     "execution_count": 12,
     "metadata": {},
     "output_type": "execute_result"
    },
    {
     "data": {
      "image/png": "[encoded data removed]",
      "text/plain": [
       "<Figure size 504x288 with 2 Axes>"
      ]
     },
     "metadata": {
      "needs_background": "light"
     },
     "output_type": "display_data"
    }
   ],
   "source": [
    "c10_contin['linear_drift_corr'] = c10_contin.tide_corr_grav - c10_contin.secs_elapsed*a + b\n",
    "fig, (ax1) = plt.subplots(1, 1, figsize=(7, 4))\n",
    "ax1.plot(c10_contin.timestamp, c10_contin.tide_corr_grav - c10_contin.tide_corr_grav.iloc[0], 'b.', label ='raw gravity')\n",
    "ax1.plot(c10_contin.timestamp, c10_contin.linear_drift_corr - c10_contin.linear_drift_corr.iloc[0], 'k.', label = 'drift corrected gravity')\n",
    "ax2= ax1.twinx()\n",
    "ax2.plot(c10_contin.timestamp, c10_contin.temp, 'r.')\n",
    "ax1.set_ylabel('Gravity relative to time 0 (mGal)', color='b')\n",
    "ax2.set_ylabel('Internal Temperature (mK)', color='r')\n",
    "ax1.legend(loc='upper center')\n"
   ]
  },
  {
   "cell_type": "markdown",
   "metadata": {},
   "source": [
    "## Day 1 Tare\n",
    "Drift on day 1 looks abnormal - there might have been a tare during the day. We took 2 repeat measurements on day 1 - station 1 and station 7. Plotting the difference between these repeat measurements, and the difference at camp 10 at the start and end of the day. Plotting with and without drift correction. \n",
    "\n",
    "It looks like the tare probably occured between station 1 and station 1 repeat (the difference between 7 and 7 repeat is much smaller). That incorporates most of the day so it is hard to say when it occured. Question is whether to use linear drift correction as fitted to all data or do individual daily drift corrections. For now preceding with linear drift correction applied to all data."
   ]
  },
  {
   "cell_type": "code",
   "execution_count": 11,
   "metadata": {},
   "outputs": [
    {
     "data": {
      "text/plain": [
       "<matplotlib.legend.Legend at 0x16ef0dca0>"
      ]
     },
     "execution_count": 11,
     "metadata": {},
     "output_type": "execute_result"
    },
    {
     "data": {
      "image/png": "[encoded data removed]",
      "text/plain": [
       "<Figure size 864x432 with 1 Axes>"
      ]
     },
     "metadata": {
      "needs_background": "light"
     },
     "output_type": "display_data"
    }
   ],
   "source": [
    "# drift on day 1 looks abnormal - plot whole days data to see if any more insight\n",
    "fig, ( ax1) = plt.subplots(1, 1, sharex=True, sharey=True, figsize=(12,6))\n",
    "ax1.plot((repeat_sta_1.Datetime.iloc[1] - repeat_sta_1.Datetime.iloc[0])/pd.Timedelta(minutes=1), repeat_sta_1.grav_avg.iloc[1] - repeat_sta_1.grav_avg.iloc[0], 'b.', label='station 1')\n",
    "ax1.plot((repeat_sta_1.Datetime.iloc[1] - repeat_sta_1.Datetime.iloc[0])/pd.Timedelta(minutes=1), repeat_sta_1.linear_drift_corr.iloc[1] - repeat_sta_1.linear_drift_corr.iloc[0], 'm.', label='station 1 w drift corr')\n",
    "\n",
    "ax1.plot((repeat_sta_7.Datetime.iloc[1] - repeat_sta_7.Datetime.iloc[0])/pd.Timedelta(minutes=1), repeat_sta_7.grav_avg.iloc[1] - repeat_sta_7.grav_avg.iloc[0], 'g.', label='station 7')\n",
    "ax1.plot((repeat_sta_7.Datetime.iloc[1] - repeat_sta_7.Datetime.iloc[0])/pd.Timedelta(minutes=1), repeat_sta_7.linear_drift_corr.iloc[1] - repeat_sta_7.linear_drift_corr.iloc[0], 'y.', label='station 7 w drift corr')\n",
    "\n",
    "# ax1.plot(base1.Datetime, base1.linear_drift_corr, 'r.')\n",
    "ax1.plot((base2.Datetime.iloc[0] - base1.Datetime.iloc[0])/pd.Timedelta(minutes=1), base2.grav_avg.iloc[0] - base1.grav_avg.iloc[0], 'r.', label='base station')\n",
    "ax1.plot((base2.Datetime.iloc[0] - base1.Datetime.iloc[0])/pd.Timedelta(minutes=1), base2.linear_drift_corr.iloc[0] - base1.linear_drift_corr.iloc[0], '.', color='orange', label='base station w drift corr')\n",
    "\n",
    "# ax1.plot(mins_elp, linear_corr, 'k', label='base station')\n",
    "\n",
    "# ax2.plot(day1.timestamp, day1.temp, 'g.')\n",
    "\n",
    "ax1.set_xlabel('Time between repeat measurements (minutes)')\n",
    "ax1.set_ylabel('Gravity difference between repeat measurements (mGal)')\n",
    "ax1.legend(loc='lower left')\n",
    "# ax2.set_xlabel('Date and time')\n",
    "# ax2.set_ylabel('Drift Corrected Gravity (mGal)', color='b')\n",
    "# ax2.set_ylabel('Internal Temperature (mK)', color='r')\n",
    "\n",
    "# ax1.set_xticks(ticks = day1.timestamp, labels = day1.sta)"
   ]
  },
  {
   "cell_type": "code",
   "execution_count": 12,
   "metadata": {},
   "outputs": [
    {
     "name": "stderr",
     "output_type": "stream",
     "text": [
      "/var/folders/6g/r2y8czh94x50dtz0hyff18nr0000gq/T/ipykernel_32822/130087068.py:2: SettingWithCopyWarning: \n",
      "A value is trying to be set on a copy of a slice from a DataFrame\n",
      "\n",
      "See the caveats in the documentation: https://pandas.pydata.org/pandas-docs/stable/user_guide/indexing.html#returning-a-view-versus-a-copy\n",
      "  stations['linear_drift_corr'].iloc[0] = np.mean(c10_base.linear_drift_corr) #set c10 to be mean of all drift corrected measurements there\n"
     ]
    }
   ],
   "source": [
    "\n",
    "stations = data_avgs.loc[(data_avgs['sta']<100) | (data_avgs['sta']>=200) | (data_avgs['sta']==102)].reset_index(drop=True) #stations all non base locations plus c10 at start of day 1 - part of profile 4\n",
    "stations['linear_drift_corr'].iloc[0] = np.mean(c10_base.linear_drift_corr) #set c10 to be mean of all drift corrected measurements there\n",
    "stations['grav_anom'] = stations['linear_drift_corr'] - np.mean(c10_base.linear_drift_corr) #make all measurements relative to mean at c10"
   ]
  },
  {
   "attachments": {},
   "cell_type": "markdown",
   "metadata": {},
   "source": [
    "### Latitude correction\n",
    "Gravity changes with changing latitude so we need to correct for the changes in latitude during our survey. As we are just calculating gravity relative to camp 10 we will calculate a latitude correction based on the difference between the expected gravity at the stations on the glacier and the location at camp 10. Expected gravity is what the gravity would be at that latitude if the earth didn't have density and topography variations at the surface - its calculated from the international gravity formula."
   ]
  },
  {
   "cell_type": "code",
   "execution_count": 13,
   "metadata": {},
   "outputs": [],
   "source": [
    "stations['theo_grav_0'] =  9.7803267715*(1 + 0.0052790414*np.sin(np.deg2rad(stations.Lat))**2 \n",
    "                                            + 0.0000232718*np.sin(2*np.deg2rad(stations.Lat))**4\n",
    "                                            + 0.0000001262*np.sin(2*np.deg2rad(stations.Lat))**6\n",
    "                                            + 0.0000000007*np.sin(2*np.deg2rad(stations.Lat))**8)*1e5\n"
   ]
  },
  {
   "cell_type": "code",
   "execution_count": 14,
   "metadata": {},
   "outputs": [],
   "source": [
    "# Error on drift corrected data - root sum of squares combination of station and base standard deviations\n",
    "#base std is the standard deviation of the C10 base station measurments after linear drift correction\n",
    "base_std = np.std(c10_base.linear_drift_corr)\n",
    "stations['drift_corr_grav_uc'] = np.sqrt(stations['grav_std']**2 + base_std**2)"
   ]
  },
  {
   "attachments": {},
   "cell_type": "markdown",
   "metadata": {},
   "source": [
    "### Free air anomaly\n",
    "We need to correct for changes in during the gravity survey - again these are just compared to the camp 10 elevation"
   ]
  },
  {
   "cell_type": "code",
   "execution_count": 18,
   "metadata": {},
   "outputs": [],
   "source": [
    "stations['fac'] = stations.Elev * 0.3086 #( R. E. Sheriff, Encyclopedic Dictionary of Exploration Geophysics, 2nd ed., (Society of Exploration Geophysicists, 1984), p. 141.)\n",
    "stations['faa_error'] = np.sqrt((stations.Elev_std * -0.3086)**2 + (stations.drift_corr_grav_uc)**2)\n"
   ]
  },
  {
   "attachments": {},
   "cell_type": "markdown",
   "metadata": {},
   "source": [
    "### Bouguer anomaly\n",
    "This is done as a simple slab correction with an additional component from the terrain correction."
   ]
  },
  {
   "cell_type": "code",
   "execution_count": 19,
   "metadata": {},
   "outputs": [],
   "source": [
    "stations['boug_slab_corr_2700'] = 2*np.pi*2700*stations.Elev*6.67e-11*1e5\n",
    "stations['boug_slab_corr_2670'] = 2*np.pi*2670*stations.Elev*6.67e-11*1e5\n",
    "stations['boug_slab_corr_2730'] = 2*np.pi*2730*stations.Elev*6.67e-11*1e5\n",
    "stations['ba_error'] = np.sqrt((0.196*stations.Elev_std)**2  + (stations.drift_corr_grav_uc)**2)"
   ]
  },
  {
   "cell_type": "code",
   "execution_count": 20,
   "metadata": {},
   "outputs": [
    {
     "name": "stderr",
     "output_type": "stream",
     "text": [
      "/var/folders/6g/r2y8czh94x50dtz0hyff18nr0000gq/T/ipykernel_32822/1367643266.py:9: SettingWithCopyWarning: \n",
      "A value is trying to be set on a copy of a slice from a DataFrame\n",
      "\n",
      "See the caveats in the documentation: https://pandas.pydata.org/pandas-docs/stable/user_guide/indexing.html#returning-a-view-versus-a-copy\n",
      "  stations['terr_corr_2700'].iloc[stations.sta == terr_corr.sta.iloc[i]] = terr_corr['terr_corr_2700'].iloc[i]\n",
      "/var/folders/6g/r2y8czh94x50dtz0hyff18nr0000gq/T/ipykernel_32822/1367643266.py:10: SettingWithCopyWarning: \n",
      "A value is trying to be set on a copy of a slice from a DataFrame\n",
      "\n",
      "See the caveats in the documentation: https://pandas.pydata.org/pandas-docs/stable/user_guide/indexing.html#returning-a-view-versus-a-copy\n",
      "  stations['terr_corr_2670'].iloc[stations.sta == terr_corr.sta.iloc[i]] = terr_corr['terr_corr_2670'].iloc[i]\n",
      "/var/folders/6g/r2y8czh94x50dtz0hyff18nr0000gq/T/ipykernel_32822/1367643266.py:11: SettingWithCopyWarning: \n",
      "A value is trying to be set on a copy of a slice from a DataFrame\n",
      "\n",
      "See the caveats in the documentation: https://pandas.pydata.org/pandas-docs/stable/user_guide/indexing.html#returning-a-view-versus-a-copy\n",
      "  stations['terr_corr_2730'].iloc[stations.sta == terr_corr.sta.iloc[i]] = terr_corr['terr_corr_2730'].iloc[i]\n",
      "/var/folders/6g/r2y8czh94x50dtz0hyff18nr0000gq/T/ipykernel_32822/1367643266.py:12: SettingWithCopyWarning: \n",
      "A value is trying to be set on a copy of a slice from a DataFrame\n",
      "\n",
      "See the caveats in the documentation: https://pandas.pydata.org/pandas-docs/stable/user_guide/indexing.html#returning-a-view-versus-a-copy\n",
      "  stations['terr_corr_std'].iloc[stations.sta == terr_corr.sta.iloc[i]] = terr_corr['terr_corr_std'].iloc[i]\n"
     ]
    }
   ],
   "source": [
    "terr_corr = pd.read_csv('Data/GPS/grav_all_ppk_stations_terr_corr_all.csv', usecols=[0, 11, 12, 13,14]) #read in the terrain correction\n",
    "\n",
    "stations['terr_corr_2700'] = -999\n",
    "stations['terr_corr_2670'] = -999\n",
    "stations['terr_corr_2730'] = -999\n",
    "stations['terr_corr_std'] = -999\n",
    "\n",
    "for i in range(len(terr_corr)): #loop through all the stations in the gps data and apply terrain correction by station name\n",
    "    stations['terr_corr_2700'].iloc[stations.sta == terr_corr.sta.iloc[i]] = terr_corr['terr_corr_2700'].iloc[i]\n",
    "    stations['terr_corr_2670'].iloc[stations.sta == terr_corr.sta.iloc[i]] = terr_corr['terr_corr_2670'].iloc[i]\n",
    "    stations['terr_corr_2730'].iloc[stations.sta == terr_corr.sta.iloc[i]] = terr_corr['terr_corr_2730'].iloc[i]\n",
    "    stations['terr_corr_std'].iloc[stations.sta == terr_corr.sta.iloc[i]] = terr_corr['terr_corr_std'].iloc[i]\n",
    "stations['ba_terr_error'] = np.sqrt((stations['terr_corr_std'])**2  + (stations.ba_error)**2)"
   ]
  },
  {
   "cell_type": "code",
   "execution_count": 21,
   "metadata": {},
   "outputs": [],
   "source": [
    "stations['fa_grav_theo'] = -stations['theo_grav_0'] + stations['fac']\n",
    "stations['fa_grav_theo_rel'] = stations['fa_grav_theo'] - stations['fa_grav_theo'].iloc[0]\n",
    "stations['fa_anom'] = stations['grav_anom'] + stations['fa_grav_theo_rel']\n",
    "\n",
    "stations['grav_theo_2670'] = -stations['theo_grav_0'] + stations['fac'] - stations['boug_slab_corr_2670'] + stations['terr_corr_2670']\n",
    "stations['grav_theo_rel'] = stations['grav_theo_2670'] - stations['grav_theo_2670'].iloc[0]\n",
    "stations['boug_anom_2670'] = stations['grav_anom'] + stations['grav_theo_rel']\n",
    "\n",
    "stations['grav_theo_2700'] = -stations['theo_grav_0'] + stations['fac'] - stations['boug_slab_corr_2700'] + stations['terr_corr_2700']\n",
    "stations['grav_theo_rel'] = stations['grav_theo_2700'] - stations['grav_theo_2700'].iloc[0]\n",
    "stations['boug_anom_2700'] = stations['grav_anom'] + stations['grav_theo_rel']\n",
    "\n",
    "stations['grav_theo_2730'] = -stations['theo_grav_0'] + stations['fac'] - stations['boug_slab_corr_2730'] + stations['terr_corr_2730']\n",
    "stations['grav_theo_rel'] = stations['grav_theo_2730'] - stations['grav_theo_2730'].iloc[0]\n",
    "stations['boug_anom_2730'] = stations['grav_anom'] + stations['grav_theo_rel']"
   ]
  },
  {
   "cell_type": "markdown",
   "metadata": {},
   "source": [
    "### Repeat measurements - error estimation and averaging"
   ]
  },
  {
   "cell_type": "code",
   "execution_count": 22,
   "metadata": {},
   "outputs": [
    {
     "name": "stdout",
     "output_type": "stream",
     "text": [
      "210 [0.02278932]\n",
      "305 [-0.02638006]\n",
      "403 [-0.05223159]\n",
      "1 [0.15461441]\n",
      "7 [0.01702676]\n",
      "4 [-0.04514182]\n",
      "The average free air anomaly error based on repeat measurements is: 0.16196700210968104\n",
      "The average free air anomaly error based on sum of uncertainties is: 0.06956098866309293\n",
      "The max free air anomaly error based on sum of uncertainties is: 0.07068840492094715\n"
     ]
    },
    {
     "name": "stderr",
     "output_type": "stream",
     "text": [
      "/var/folders/6g/r2y8czh94x50dtz0hyff18nr0000gq/T/ipykernel_32822/3133432602.py:27: SettingWithCopyWarning: \n",
      "A value is trying to be set on a copy of a slice from a DataFrame\n",
      "\n",
      "See the caveats in the documentation: https://pandas.pydata.org/pandas-docs/stable/user_guide/indexing.html#returning-a-view-versus-a-copy\n",
      "  data_rep_avg['boug_anom_2700'][data_rep_avg['sta']==rep_meas[i]] =  (data_rep_avg['boug_anom_2700'][data_rep_avg['sta']==rep_meas[i]].values + data_rep_avg['boug_anom_2700'][data_rep_avg['sta']==rep_meas[i+1]].values)/2\n"
     ]
    }
   ],
   "source": [
    "# repeat measurments differences\n",
    "rep_meas = [1, 11, 7, 71, 4, 21, 210, 212, 305, 409, 403, 408]\n",
    "\n",
    "#for sum of errors skip 1 and 11 because they are anomalously high -- need to look at that day again\n",
    "sq_sum = 0\n",
    "for i in range(6,len(rep_meas),2):\n",
    "    diff = (stations['boug_anom_2700'][stations['sta']==rep_meas[i]].values - stations['boug_anom_2700'][stations['sta']==rep_meas[i+1]].values)\n",
    "    print(rep_meas[i], diff)\n",
    "    sq_sum = sq_sum + (stations['boug_anom_2700'][stations['sta']==rep_meas[i]].values - stations['boug_anom_2700'][stations['sta']==rep_meas[i+1]].values)**2\n",
    "rep_meas_avg = np.sqrt(sq_sum)[0]\n",
    "stations['rep_error_oth'] = rep_meas_avg\n",
    "\n",
    "#Since repeat measurements error is higher from day 1 - will use average of day 1 repeats for uncertainty on those measurements\n",
    "sq_sum = 0\n",
    "for i in range(0,6,2):\n",
    "    diff = (stations['boug_anom_2700'][stations['sta']==rep_meas[i]].values - stations['boug_anom_2700'][stations['sta']==rep_meas[i+1]].values)\n",
    "    print(rep_meas[i], diff)\n",
    "    sq_sum = sq_sum + (stations['boug_anom_2700'][stations['sta']==rep_meas[i]].values - stations['boug_anom_2700'][stations['sta']==rep_meas[i+1]].values)**2\n",
    "rep_meas_avg = np.sqrt(sq_sum)[0]\n",
    "stations['rep_error_day1'] = rep_meas_avg\n",
    "\n",
    "diff_max = stations['boug_anom_2700'][stations['sta']==rep_meas[0]].values - stations['boug_anom_2700'][stations['sta']==rep_meas[1]].values\n",
    "stations['rep_error_max'] = diff_max[0]\n",
    "data_rep_avg = stations.copy()\n",
    "for i in range(0,len(rep_meas),2):\n",
    "    # data_rep_avg['faa'][data_rep_avg['sta']==rep_meas[i]] =  (data_rep_avg['faa'][data_rep_avg['sta']==rep_meas[i]].values + data_rep_avg['faa'][data_rep_avg['sta']==rep_meas[i+1]].values)/2\n",
    "    data_rep_avg['boug_anom_2700'][data_rep_avg['sta']==rep_meas[i]] =  (data_rep_avg['boug_anom_2700'][data_rep_avg['sta']==rep_meas[i]].values + data_rep_avg['boug_anom_2700'][data_rep_avg['sta']==rep_meas[i+1]].values)/2\n",
    "    data_rep_avg = data_rep_avg.drop(index = data_rep_avg[data_rep_avg['sta']==rep_meas[i+1]].index)\n",
    "    \n",
    "\n",
    "print ('The average free air anomaly error based on repeat measurements is: ' + str(rep_meas_avg))\n",
    "print ('The average free air anomaly error based on sum of uncertainties is: ' + str(np.mean(stations.ba_error)))\n",
    "print ('The max free air anomaly error based on sum of uncertainties is: ' + str(max(stations.ba_error)))\n"
   ]
  },
  {
   "cell_type": "code",
   "execution_count": 23,
   "metadata": {},
   "outputs": [],
   "source": [
    "#rss the measurement error to the repeat meas error\n",
    "\n",
    "data_rep_avg['error'] = np.sqrt(data_rep_avg['rep_error_max']**2 + data_rep_avg['ba_terr_error']**2)"
   ]
  },
  {
   "cell_type": "code",
   "execution_count": 31,
   "metadata": {},
   "outputs": [
    {
     "data": {
      "text/plain": [
       "0.08037398806910145"
      ]
     },
     "execution_count": 31,
     "metadata": {},
     "output_type": "execute_result"
    }
   ],
   "source": [
    "np.mean(data_rep_avg['ba_terr_error'])"
   ]
  },
  {
   "cell_type": "code",
   "execution_count": 24,
   "metadata": {},
   "outputs": [
    {
     "data": {
      "text/plain": [
       "0.17443967905503494"
      ]
     },
     "execution_count": 24,
     "metadata": {},
     "output_type": "execute_result"
    }
   ],
   "source": [
    "np.mean(data_rep_avg['error'])"
   ]
  },
  {
   "attachments": {},
   "cell_type": "markdown",
   "metadata": {},
   "source": [
    "### Plot the data"
   ]
  },
  {
   "cell_type": "code",
   "execution_count": 86,
   "metadata": {},
   "outputs": [
    {
     "data": {
      "text/plain": [
       "Text(0, 0.5, 'Northing (m)')"
      ]
     },
     "execution_count": 86,
     "metadata": {},
     "output_type": "execute_result"
    },
    {
     "data": {
      "image/png": "[encoded data removed]",
      "text/plain": [
       "<Figure size 720x864 with 2 Axes>"
      ]
     },
     "metadata": {
      "needs_background": "light"
     },
     "output_type": "display_data"
    }
   ],
   "source": [
    "plt.figure(figsize=(10,12))\n",
    "plt.scatter(data_rep_avg.x_8N, data_rep_avg.y_8N, c=data_rep_avg.boug_anom_2700, vmin=-20, vmax=15)#, vmin=min(stations.boug_anom), vmax=-30) #you can uncomment these to vary the min and max color values\n",
    "plt.title('Bouguer Gravity Anomaly Relative to Camp 10')\n",
    "cbar = plt.colorbar()\n",
    "cbar.set_label('Bouguer Anomaly (mGal)', rotation=270)\n",
    "plt.xlabel('Easting (m)')\n",
    "plt.ylabel('Northing (m)')"
   ]
  },
  {
   "cell_type": "code",
   "execution_count": 145,
   "metadata": {},
   "outputs": [],
   "source": [
    "# data_avgs_export = data_rep_avg.drop(columns=['secs_elapsed',\t'linear_drift_corr', 'theo_grav_0','fac', 'terr_corr',\t'boug_slab_corr', 'fa_grav_theo',\n",
    "#        'fa_grav_theo_rel', 'grav_theo', 'grav_theo_rel'])\n",
    "data_rep_avg.to_csv('Data/grav_faa_ba_update0516.csv', index=False)"
   ]
  },
  {
   "cell_type": "code",
   "execution_count": 136,
   "metadata": {},
   "outputs": [
    {
     "data": {
      "text/plain": [
       "0.08037398806910145"
      ]
     },
     "execution_count": 136,
     "metadata": {},
     "output_type": "execute_result"
    }
   ],
   "source": [
    "np.mean(data_rep_avg['ba_terr_error'])"
   ]
  }
 ],
 "metadata": {
  "kernelspec": {
   "display_name": "pg",
   "language": "python",
   "name": "python3"
  },
  "language_info": {
   "codemirror_mode": {
    "name": "ipython",
    "version": 3
   },
   "file_extension": ".py",
   "mimetype": "text/x-python",
   "name": "python",
   "nbconvert_exporter": "python",
   "pygments_lexer": "ipython3",
   "version": "3.9.10"
  },
  "orig_nbformat": 4
 },
 "nbformat": 4,
 "nbformat_minor": 2
}
